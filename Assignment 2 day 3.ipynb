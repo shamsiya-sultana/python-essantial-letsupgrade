{
 "cells": [
  {
   "cell_type": "markdown",
   "metadata": {},
   "source": [
    "# Assignment 2"
   ]
  },
  {
   "cell_type": "markdown",
   "metadata": {},
   "source": [
    "###   1. use IF ELSE and ELIF to wtite a program in python for your report card."
   ]
  },
  {
   "cell_type": "code",
   "execution_count": 3,
   "metadata": {},
   "outputs": [],
   "source": [
    "marks = 75"
   ]
  },
  {
   "cell_type": "code",
   "execution_count": 4,
   "metadata": {},
   "outputs": [
    {
     "name": "stdout",
     "output_type": "stream",
     "text": [
      "grade -> A\n"
     ]
    }
   ],
   "source": [
    "if marks>=90:\n",
    "    print(\"grade ->A+\")\n",
    "elif marks>=70:\n",
    "    print(\"grade -> A\")\n",
    "elif marks>=60 and marks<80:\n",
    "    print(\"grade -> B+\")\n",
    "elif marks>=40 and marks<60:\n",
    "    print(\"grade -> C\")\n",
    "elif marks>=35 and marks<40:\n",
    "    print(\"grade -> D , just \")\n",
    "else:\n",
    "    print(\"failed\")"
   ]
  },
  {
   "cell_type": "markdown",
   "metadata": {},
   "source": [
    "### 2. use for loop to print 100 prime numbers in between 1 to 1000"
   ]
  },
  {
   "cell_type": "code",
   "execution_count": 19,
   "metadata": {},
   "outputs": [
    {
     "name": "stdout",
     "output_type": "stream",
     "text": [
      "2 3 5 7 11 13 17 19 23 29 31 37 41 43 47 53 59 61 67 71 73 79 83 89 97 101 103 107 109 113 127 131 137 139 149 151 157 163 167 173 179 181 191 193 197 199 211 223 227 229 233 239 241 251 257 263 269 271 277 281 283 293 307 311 313 317 331 337 347 349 353 359 367 373 379 383 389 397 401 409 419 421 431 433 439 443 449 457 461 463 467 479 487 491 499 503 509 521 523 541 547 557 563 569 571 577 587 593 599 601 607 613 617 619 631 641 643 647 653 659 661 673 677 683 691 701 709 719 727 733 739 743 751 757 761 769 773 787 797 809 811 821 823 827 829 839 853 857 859 863 877 881 883 887 907 911 919 929 937 941 947 953 967 971 977 983 991 997 "
     ]
    }
   ],
   "source": [
    "for item in range(1,1000):\n",
    "    count = 0\n",
    "    for i in range(2,(item//2+1)):\n",
    "        if(item % i == 0):\n",
    "            count = count+1\n",
    "            break\n",
    "            \n",
    "    if(count==0 and item !=1):\n",
    "        print(\"%d\" %item , end=' ')"
   ]
  },
  {
   "cell_type": "markdown",
   "metadata": {},
   "source": [
    "### 3. write a program for printing the tables from 1, 10 using nested for loop"
   ]
  },
  {
   "cell_type": "code",
   "execution_count": 4,
   "metadata": {},
   "outputs": [
    {
     "name": "stdout",
     "output_type": "stream",
     "text": [
      "\n",
      "\n",
      " multiplication tables for 1\n",
      "\n",
      "1     X     1 =     1\n",
      "1     X     2 =     2\n",
      "1     X     3 =     3\n",
      "1     X     4 =     4\n",
      "1     X     5 =     5\n",
      "1     X     6 =     6\n",
      "1     X     7 =     7\n",
      "1     X     8 =     8\n",
      "1     X     9 =     9\n",
      "1     X    10 =    10\n",
      "\n",
      "\n",
      " multiplication tables for 2\n",
      "\n",
      "2     X     1 =     2\n",
      "2     X     2 =     4\n",
      "2     X     3 =     6\n",
      "2     X     4 =     8\n",
      "2     X     5 =    10\n",
      "2     X     6 =    12\n",
      "2     X     7 =    14\n",
      "2     X     8 =    16\n",
      "2     X     9 =    18\n",
      "2     X    10 =    20\n",
      "\n",
      "\n",
      " multiplication tables for 3\n",
      "\n",
      "3     X     1 =     3\n",
      "3     X     2 =     6\n",
      "3     X     3 =     9\n",
      "3     X     4 =    12\n",
      "3     X     5 =    15\n",
      "3     X     6 =    18\n",
      "3     X     7 =    21\n",
      "3     X     8 =    24\n",
      "3     X     9 =    27\n",
      "3     X    10 =    30\n",
      "\n",
      "\n",
      " multiplication tables for 4\n",
      "\n",
      "4     X     1 =     4\n",
      "4     X     2 =     8\n",
      "4     X     3 =    12\n",
      "4     X     4 =    16\n",
      "4     X     5 =    20\n",
      "4     X     6 =    24\n",
      "4     X     7 =    28\n",
      "4     X     8 =    32\n",
      "4     X     9 =    36\n",
      "4     X    10 =    40\n",
      "\n",
      "\n",
      " multiplication tables for 5\n",
      "\n",
      "5     X     1 =     5\n",
      "5     X     2 =    10\n",
      "5     X     3 =    15\n",
      "5     X     4 =    20\n",
      "5     X     5 =    25\n",
      "5     X     6 =    30\n",
      "5     X     7 =    35\n",
      "5     X     8 =    40\n",
      "5     X     9 =    45\n",
      "5     X    10 =    50\n",
      "\n",
      "\n",
      " multiplication tables for 6\n",
      "\n",
      "6     X     1 =     6\n",
      "6     X     2 =    12\n",
      "6     X     3 =    18\n",
      "6     X     4 =    24\n",
      "6     X     5 =    30\n",
      "6     X     6 =    36\n",
      "6     X     7 =    42\n",
      "6     X     8 =    48\n",
      "6     X     9 =    54\n",
      "6     X    10 =    60\n",
      "\n",
      "\n",
      " multiplication tables for 7\n",
      "\n",
      "7     X     1 =     7\n",
      "7     X     2 =    14\n",
      "7     X     3 =    21\n",
      "7     X     4 =    28\n",
      "7     X     5 =    35\n",
      "7     X     6 =    42\n",
      "7     X     7 =    49\n",
      "7     X     8 =    56\n",
      "7     X     9 =    63\n",
      "7     X    10 =    70\n",
      "\n",
      "\n",
      " multiplication tables for 8\n",
      "\n",
      "8     X     1 =     8\n",
      "8     X     2 =    16\n",
      "8     X     3 =    24\n",
      "8     X     4 =    32\n",
      "8     X     5 =    40\n",
      "8     X     6 =    48\n",
      "8     X     7 =    56\n",
      "8     X     8 =    64\n",
      "8     X     9 =    72\n",
      "8     X    10 =    80\n",
      "\n",
      "\n",
      " multiplication tables for 9\n",
      "\n",
      "9     X     1 =     9\n",
      "9     X     2 =    18\n",
      "9     X     3 =    27\n",
      "9     X     4 =    36\n",
      "9     X     5 =    45\n",
      "9     X     6 =    54\n",
      "9     X     7 =    63\n",
      "9     X     8 =    72\n",
      "9     X     9 =    81\n",
      "9     X    10 =    90\n",
      "\n",
      "\n",
      " multiplication tables for 10\n",
      "\n",
      "10    X     1 =    10\n",
      "10    X     2 =    20\n",
      "10    X     3 =    30\n",
      "10    X     4 =    40\n",
      "10    X     5 =    50\n",
      "10    X     6 =    60\n",
      "10    X     7 =    70\n",
      "10    X     8 =    80\n",
      "10    X     9 =    90\n",
      "10    X    10 =   100\n"
     ]
    }
   ],
   "source": [
    "for i in range(1,11):\n",
    "    print(\"\\n\\n multiplication tables for %d\\n\" %(i))\n",
    "    for j in range(1,11):\n",
    "        print(\"%-5d X %5d = %5d\" %(i, j,i*j))"
   ]
  },
  {
   "cell_type": "markdown",
   "metadata": {},
   "source": [
    "###  4. write a program to print X prime numbers using  while loop starting from 0, and take the input of X from the user\n"
   ]
  },
  {
   "cell_type": "code",
   "execution_count": 13,
   "metadata": {},
   "outputs": [
    {
     "name": "stdout",
     "output_type": "stream",
     "text": [
      "enter a number : 3\n",
      "3 5 7 11 13 17 19 23 29 31 37 41 43 47 53 59 61 67 71 73 79 83 89 97 "
     ]
    }
   ],
   "source": [
    "x = (int(input(\"enter a number : \")))\n",
    "while(x <=100):\n",
    "    count = 0\n",
    "    i = 2\n",
    "    \n",
    "    while(i<= x//2):\n",
    "        if(x % i == 0):\n",
    "            count = count + 1\n",
    "            break\n",
    "        i=i+1\n",
    "        \n",
    "    if(count == 0 and x!=1):\n",
    "        print(\"%d\" %x , end=' ')\n",
    "    x=x+1"
   ]
  },
  {
   "cell_type": "markdown",
   "metadata": {},
   "source": [
    " end of assignment"
   ]
  }
 ],
 "metadata": {
  "kernelspec": {
   "display_name": "Python 3",
   "language": "python",
   "name": "python3"
  },
  "language_info": {
   "codemirror_mode": {
    "name": "ipython",
    "version": 3
   },
   "file_extension": ".py",
   "mimetype": "text/x-python",
   "name": "python",
   "nbconvert_exporter": "python",
   "pygments_lexer": "ipython3",
   "version": "3.8.3"
  }
 },
 "nbformat": 4,
 "nbformat_minor": 4
}
