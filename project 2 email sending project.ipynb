{
 "cells": [
  {
   "cell_type": "markdown",
   "metadata": {},
   "source": [
    "# Email Sending project"
   ]
  },
  {
   "cell_type": "raw",
   "metadata": {},
   "source": [
    "1.SMTP server is required to send a email.\n",
    "2.\"emails\" library is required to send a email.\n",
    "3. SMTP server address to send a amail via it."
   ]
  },
  {
   "cell_type": "code",
   "execution_count": 4,
   "metadata": {},
   "outputs": [
    {
     "name": "stdout",
     "output_type": "stream",
     "text": [
      "Requirement already satisfied: emails in c:\\users\\admin\\anaconda3\\lib\\site-packages (0.6)\n",
      "Requirement already satisfied: requests in c:\\users\\admin\\anaconda3\\lib\\site-packages (from emails) (2.24.0)\n",
      "Requirement already satisfied: python-dateutil in c:\\users\\admin\\anaconda3\\lib\\site-packages (from emails) (2.8.1)\n",
      "Requirement already satisfied: premailer in c:\\users\\admin\\anaconda3\\lib\\site-packages (from emails) (3.7.0)\n",
      "Requirement already satisfied: cssutils in c:\\users\\admin\\anaconda3\\lib\\site-packages (from emails) (1.0.2)\n",
      "Requirement already satisfied: chardet in c:\\users\\admin\\anaconda3\\lib\\site-packages (from emails) (3.0.4)\n",
      "Requirement already satisfied: lxml in c:\\users\\admin\\anaconda3\\lib\\site-packages (from emails) (4.5.2)\n",
      "Requirement already satisfied: idna<3,>=2.5 in c:\\users\\admin\\anaconda3\\lib\\site-packages (from requests->emails) (2.10)\n",
      "Requirement already satisfied: certifi>=2017.4.17 in c:\\users\\admin\\anaconda3\\lib\\site-packages (from requests->emails) (2020.6.20)\n",
      "Requirement already satisfied: urllib3!=1.25.0,!=1.25.1,<1.26,>=1.21.1 in c:\\users\\admin\\anaconda3\\lib\\site-packages (from requests->emails) (1.25.9)\n",
      "Requirement already satisfied: six>=1.5 in c:\\users\\admin\\anaconda3\\lib\\site-packages (from python-dateutil->emails) (1.15.0)\n",
      "Requirement already satisfied: cssselect in c:\\users\\admin\\anaconda3\\lib\\site-packages (from premailer->emails) (1.1.0)\n",
      "Requirement already satisfied: cachetools in c:\\users\\admin\\anaconda3\\lib\\site-packages (from premailer->emails) (4.2.0)\n"
     ]
    }
   ],
   "source": [
    "!pip install emails"
   ]
  },
  {
   "cell_type": "code",
   "execution_count": 5,
   "metadata": {},
   "outputs": [],
   "source": [
    "# email --> shamsiya.letsupgrade\n",
    "#password --> justfor123"
   ]
  },
  {
   "cell_type": "code",
   "execution_count": 6,
   "metadata": {},
   "outputs": [],
   "source": [
    "import emails"
   ]
  },
  {
   "cell_type": "code",
   "execution_count": 16,
   "metadata": {},
   "outputs": [],
   "source": [
    "message = emails.html(html=\"<p>here is your receipt...\",\n",
    "                      subject=\"your receipt no.2343564356\",\n",
    "                      mail_from=('some store', 'store@somestore.com'))"
   ]
  },
  {
   "cell_type": "code",
   "execution_count": 22,
   "metadata": {},
   "outputs": [],
   "source": [
    "mail_via_python = message.send(to='rikove2651@cctyoo.com',smtp={'host':'smtp.gamil.com','timeout':5,'port':587,\n",
    "                                                    'user':'shamsiya.letsupgrade@gmail.com', 'password':'justfor123',\n",
    "                                                   'tls':True})\n"
   ]
  },
  {
   "cell_type": "code",
   "execution_count": 21,
   "metadata": {},
   "outputs": [],
   "source": [
    "mail_via_python.status_code"
   ]
  },
  {
   "cell_type": "code",
   "execution_count": null,
   "metadata": {},
   "outputs": [],
   "source": [
    "[9]"
   ]
  }
 ],
 "metadata": {
  "kernelspec": {
   "display_name": "Python 3",
   "language": "python",
   "name": "python3"
  },
  "language_info": {
   "codemirror_mode": {
    "name": "ipython",
    "version": 3
   },
   "file_extension": ".py",
   "mimetype": "text/x-python",
   "name": "python",
   "nbconvert_exporter": "python",
   "pygments_lexer": "ipython3",
   "version": "3.8.3"
  }
 },
 "nbformat": 4,
 "nbformat_minor": 4
}
