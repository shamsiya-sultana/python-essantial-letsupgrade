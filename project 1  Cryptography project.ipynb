{
 "cells": [
  {
   "cell_type": "markdown",
   "metadata": {},
   "source": [
    "# Cryptography "
   ]
  },
  {
   "cell_type": "markdown",
   "metadata": {},
   "source": [
    " it is nothing but changing your simple plan message with somthing which cant be understand without the code to creck it."
   ]
  },
  {
   "cell_type": "raw",
   "metadata": {},
   "source": [
    "Ciper text --> a text which is the result of encryption is known as chiper text.\n",
    "Encryption --> convertiong a message to secret message is known as Encryption.\n",
    "Decryption --> converting back the secret message to normal message."
   ]
  },
  {
   "cell_type": "markdown",
   "metadata": {},
   "source": [
    "### write a python program which converts,any given text to chiper text and when every the key is available it should convey it back to normal message."
   ]
  },
  {
   "cell_type": "raw",
   "metadata": {},
   "source": [
    "step 1 -> which lib is used to convert a normal text to ciper text\n",
    "step 2 -> take input from the user and convert it to chiper text\n",
    "step 3 -> display back the ciper text to user\n",
    "step 4 -> load the kye if the key is same,based upon the input provided,convert it ti normal text"
   ]
  },
  {
   "cell_type": "code",
   "execution_count": 2,
   "metadata": {},
   "outputs": [
    {
     "name": "stdout",
     "output_type": "stream",
     "text": [
      "Requirement already satisfied: cryptography in c:\\users\\admin\\anaconda3\\lib\\site-packages (2.9.2)\n",
      "Requirement already satisfied: cffi!=1.11.3,>=1.8 in c:\\users\\admin\\anaconda3\\lib\\site-packages (from cryptography) (1.14.0)\n",
      "Requirement already satisfied: six>=1.4.1 in c:\\users\\admin\\anaconda3\\lib\\site-packages (from cryptography) (1.15.0)\n",
      "Requirement already satisfied: pycparser in c:\\users\\admin\\anaconda3\\lib\\site-packages (from cffi!=1.11.3,>=1.8->cryptography) (2.20)\n"
     ]
    }
   ],
   "source": [
    "!pip install cryptography"
   ]
  },
  {
   "cell_type": "code",
   "execution_count": 4,
   "metadata": {},
   "outputs": [],
   "source": [
    "from cryptography.fernet import Fernet"
   ]
  },
  {
   "cell_type": "code",
   "execution_count": 17,
   "metadata": {},
   "outputs": [],
   "source": [
    "def generatePassKey():\n",
    "    key = Fernet.generate_key()\n",
    "    print(key)\n",
    "    print(type(key))\n",
    "    abc=open(\"passwordkey.key\",'wb')\n",
    "    abc.write(key)\n",
    "    abc.close()"
   ]
  },
  {
   "cell_type": "code",
   "execution_count": 18,
   "metadata": {},
   "outputs": [
    {
     "name": "stdout",
     "output_type": "stream",
     "text": [
      "b'2cUJd7TrBFyDYrrXhZ_J7l9MKs0qBZxn_Lz3JVaEi-U='\n",
      "<class 'bytes'>\n"
     ]
    }
   ],
   "source": [
    "generatePassKey()"
   ]
  },
  {
   "cell_type": "code",
   "execution_count": 19,
   "metadata": {},
   "outputs": [],
   "source": [
    "def getmykey():\n",
    "    abc=open(\"passwordkey.key\",'rb')\n",
    "    return abc.read()"
   ]
  },
  {
   "cell_type": "code",
   "execution_count": 20,
   "metadata": {},
   "outputs": [
    {
     "data": {
      "text/plain": [
       "b'2cUJd7TrBFyDYrrXhZ_J7l9MKs0qBZxn_Lz3JVaEi-U='"
      ]
     },
     "execution_count": 20,
     "metadata": {},
     "output_type": "execute_result"
    }
   ],
   "source": [
    "getmykey()"
   ]
  },
  {
   "cell_type": "code",
   "execution_count": 21,
   "metadata": {},
   "outputs": [],
   "source": [
    "def getcontantfromuser():\n",
    "    return input(\"enter the contant you want to encrypt in python script\")"
   ]
  },
  {
   "cell_type": "code",
   "execution_count": 38,
   "metadata": {},
   "outputs": [
    {
     "name": "stdout",
     "output_type": "stream",
     "text": [
      "enter the contant you want to encrypt in python scriptshamsiya sultana\n"
     ]
    },
    {
     "data": {
      "text/plain": [
       "'shamsiya sultana'"
      ]
     },
     "execution_count": 38,
     "metadata": {},
     "output_type": "execute_result"
    }
   ],
   "source": [
    "getcontantfromuser()"
   ]
  },
  {
   "cell_type": "code",
   "execution_count": 39,
   "metadata": {},
   "outputs": [],
   "source": [
    "def encryptmessage(massage_normal):\n",
    "    key = getmykey()\n",
    "    K = Fernet(key)\n",
    "    encrypted_message = K.encrypt(massage_normal)\n",
    "    return encrypted_message"
   ]
  },
  {
   "cell_type": "code",
   "execution_count": 40,
   "metadata": {},
   "outputs": [
    {
     "data": {
      "text/plain": [
       "b'gAAAAABf2PfOKwazJgJcayJ40lcg5CRcsIzABf_MYnBIBVX4_f1tlHZ7CUOQAUkx1z9oD6MU_pCAoMm2b1GAKjACQO-lEY6LQw=='"
      ]
     },
     "execution_count": 40,
     "metadata": {},
     "output_type": "execute_result"
    }
   ],
   "source": [
    "encryptmessage(b\"hey\")"
   ]
  },
  {
   "cell_type": "code",
   "execution_count": 41,
   "metadata": {},
   "outputs": [],
   "source": [
    "def dencryptmessage(massage_secret):\n",
    "    key = getmykey()\n",
    "    K = Fernet(key)\n",
    "    dencrypted_message = K.decrypt(massage_secret)\n",
    "    return dencrypted_message"
   ]
  },
  {
   "cell_type": "code",
   "execution_count": 42,
   "metadata": {},
   "outputs": [
    {
     "data": {
      "text/plain": [
       "b'hey'"
      ]
     },
     "execution_count": 42,
     "metadata": {},
     "output_type": "execute_result"
    }
   ],
   "source": [
    "dencryptmessage(b'gAAAAABf2PcRHO8JKUnIU88S65vCQvNhYa9xtm-kF-dusXIcDCdDxxpK2Ae_KD4UOq-0Fu0nOiMFZFhTVBkFse-ZqjNn1OH3SQ==')"
   ]
  },
  {
   "cell_type": "code",
   "execution_count": null,
   "metadata": {},
   "outputs": [],
   "source": []
  }
 ],
 "metadata": {
  "kernelspec": {
   "display_name": "Python 3",
   "language": "python",
   "name": "python3"
  },
  "language_info": {
   "codemirror_mode": {
    "name": "ipython",
    "version": 3
   },
   "file_extension": ".py",
   "mimetype": "text/x-python",
   "name": "python",
   "nbconvert_exporter": "python",
   "pygments_lexer": "ipython3",
   "version": "3.8.3"
  }
 },
 "nbformat": 4,
 "nbformat_minor": 4
}
